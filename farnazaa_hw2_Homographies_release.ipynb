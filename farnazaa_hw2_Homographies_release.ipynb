{
  "nbformat": 4,
  "nbformat_minor": 0,
  "metadata": {
    "colab": {
      "provenance": [],
      "include_colab_link": true
    },
    "kernelspec": {
      "name": "python3",
      "display_name": "Python 3"
    },
    "language_info": {
      "name": "python"
    }
  },
  "cells": [
    {
      "cell_type": "markdown",
      "metadata": {
        "id": "view-in-github",
        "colab_type": "text"
      },
      "source": [
        "<a href=\"https://colab.research.google.com/github/farnazalamahmed99-cmu/3D_Reconstruction_CV/blob/main/farnazaa_hw2_Homographies_release.ipynb\" target=\"_parent\"><img src=\"https://colab.research.google.com/assets/colab-badge.svg\" alt=\"Open In Colab\"/></a>"
      ]
    },
    {
      "cell_type": "markdown",
      "source": [
        "# Homework 2: Augmented Reality with Planar Homographies\n",
        "\n",
        "#### **For each question please refer to the handout for more details.**\n",
        "\n",
        "Programming questions begin at **Q2**. **Remember to run all cells** and save the notebook to your local machine as a pdf for gradescope submission."
      ],
      "metadata": {
        "id": "oJjk2xbgFWi3"
      }
    },
    {
      "cell_type": "markdown",
      "source": [
        "# Collaborators\n",
        "**List your collaborators for all questions here**:\n",
        "\n",
        "\n",
        "---"
      ],
      "metadata": {
        "id": "QKza7nZpFblV"
      }
    },
    {
      "cell_type": "markdown",
      "source": [
        "# Q1 Preliminaries"
      ],
      "metadata": {
        "id": "5xMtZeJZF-h1"
      }
    },
    {
      "cell_type": "markdown",
      "source": [
        "## Q1.1 The Direct Linear Transform\n"
      ],
      "metadata": {
        "id": "p2yPlOf3GST4"
      }
    },
    {
      "cell_type": "markdown",
      "source": [
        "### Q1.1.1 (3 points)\n",
        "\n",
        "How many degrees of freedom does **h** have?"
      ],
      "metadata": {
        "id": "25A9dl0lHIfw"
      }
    },
    {
      "cell_type": "markdown",
      "source": [
        "---\n",
        "\n",
        "YOUR ANSWER HERE...\n",
        "\n",
        "The homography matrix H is a 3×3 matrix with 9 elements. Since the relationship x1i≡Hx2i is an equivalence (equality up to an arbitrary scale factor), the homography is defined only up to that scale.\n",
        "\n",
        "Therefore, H (and its vector form h) has 8 independent degrees of freedom (9 elements minus 1 scale factor).\n",
        "---"
      ],
      "metadata": {
        "id": "SRwJXflxHzyQ"
      }
    },
    {
      "cell_type": "markdown",
      "source": [
        "### Q1.1.2 (2 points)\n",
        "\n",
        "How many point pairs are required to solve **h**?"
      ],
      "metadata": {
        "id": "F8LnmwrnHNha"
      }
    },
    {
      "cell_type": "markdown",
      "source": [
        "---\n",
        "\n",
        "> Add blockquote\n",
        "\n",
        "\n",
        "\n",
        "YOUR ANSWER HERE...\n",
        "Since the homography vector h has 8 degrees of freedom, and each point correspondence provides 2 independent constraints (for the x and y coordinates), the minimum number of point pairs required to uniquely determine h is  \n",
        "2 constraints per point\n",
        "8 degrees of freedom\n",
        "​\n",
        " =4 pairs of points.\n",
        "\n",
        "---"
      ],
      "metadata": {
        "id": "K148kzGMH1Aq"
      }
    },
    {
      "cell_type": "markdown",
      "source": [
        "### Q1.1.3 (5 points)\n",
        "\n",
        "Derive $\\textbf{A}_i$"
      ],
      "metadata": {
        "id": "CqCqgwl1HOh3"
      }
    },
    {
      "cell_type": "markdown",
      "source": [
        "---\n",
        "\n",
        "YOUR ANSWER HERE...\n",
        "The homography relationship states that the corresponding points are equal up to an unknown scale factor, $\\textbf{λ}$:\n",
        "$$\\mathbf{x}_{1}^{i} = \\lambda \\mathbf{H}\\mathbf{x}_{2}^{i}$$\n",
        "The points in homogeneous coordinates are\n",
        "\n",
        "$$\\mathbf{x}_{1}^{i} = \\begin{pmatrix} x_{1}^{i} \\\\ y_{1}^{i} \\\\ 1 \\end{pmatrix}$$\n",
        "and\n",
        "$$\\mathbf{x}_{2}^{i} = \\begin{pmatrix} x_{2}^{i} \\\\ y_{2}^{i} \\\\ 1 \\end{pmatrix}$$\n",
        "\n",
        "Let the result of the matrix multiplication be $$\\mathbf{H}\\mathbf{x}_{2}^{i} = \\begin{pmatrix} x'_{2} \\\\ y'_{2} \\\\ w'_{2} \\end{pmatrix}$$\n",
        "\n",
        "x-coordinate constraint:\n",
        "$$x_{1}^{i} = \\frac{x'_{2}}{w'_{2}} \\quad \\Rightarrow \\quad x'_{2} - x_{1}^{i}w'_{2} = 0$$\n",
        "y-coordinate constraint:\n",
        "$$y_{1}^{i} = \\frac{y'_{2}}{w'_{2}} \\quad \\Rightarrow \\quad y'_{2} - y_{1}^{i}w'_{2} = 0$$\n",
        "\n",
        "The constraints that lead to the two rows of $\\textbf{A}_i$ are:\n",
        "$$(\\mathbf{H}\\mathbf{x}_{2}^{i})_{1} - x_{1}^{i}(\\mathbf{H}\\mathbf{x}_{2}^{i})_{3} = 0$$\n",
        "$$(\\mathbf{H}\\mathbf{x}_{2}^{i})_{2} - y_{1}^{i}(\\mathbf{H}\\mathbf{x}_{2}^{i})_{3} = 0$$\n",
        "\n",
        "The final matrix is:\n",
        "$$\\mathbf{A}_i = \\begin{pmatrix}\n",
        "-x_{2}^{i} & -y_{2}^{i} & -1 & 0 & 0 & 0 & x_{1}^{i}x_{2}^{i} & x_{1}^{i}y_{2}^{i} & x_{1}^{i} \\\\\n",
        "0 & 0 & 0 & -x_{2}^{i} & -y_{2}^{i} & -1 & y_{1}^{i}x_{2}^{i} & y_{1}^{i}y_{2}^{i} & y_{1}^{i}\n",
        "\\end{pmatrix}$$\n",
        "\n",
        "---"
      ],
      "metadata": {
        "id": "BDpX02ogH2gu"
      }
    },
    {
      "cell_type": "markdown",
      "source": [
        "### Q1.1.4 (5 points)\n",
        "\n",
        "What will be the trivial solution for **h**? Is the matrix **A** full rank? Why/Why not? What impact will it have on the singular values (i.e. eigenvalues of $\\textbf{A}^T\\textbf{A}$)?"
      ],
      "metadata": {
        "id": "_jvLhuIUHOnH"
      }
    },
    {
      "cell_type": "markdown",
      "source": [
        "---\n",
        "\n",
        "YOUR ANSWER HERE...\n",
        "\n",
        "The trivial solution for the homogeneous linear system Ah=0 is the zero vector:\n",
        "\n",
        "h=0\n",
        "\n",
        "No, the matrix is not full rank.\n",
        "The homography H (and its vector form h) has only 8 independent degrees of freedom because the relationship $\\textbf{x}_1^{i}≡\\textbf{H}\\textbf{x}_2^{i}$\n",
        "\n",
        "   is defined up to a scale factor. To ensure a non-trivial solution (h\n",
        "=0) exists, the matrix A must have a null space of at least dimension one. Therefore, the rank of A must be rank(A)≤8.\n",
        "\n",
        "Since A is not full rank (its rank is 8, not 9), one of its singular values will be zero. The non-trivial homography vector h is the singular vector of A corresponding to this smallest (zero) singular value.\n",
        "---"
      ],
      "metadata": {
        "id": "H2PizJopH3ih"
      }
    },
    {
      "cell_type": "markdown",
      "source": [
        "## Q1.2 Homography Theory Questions"
      ],
      "metadata": {
        "id": "aFJkhQUYHh1e"
      }
    },
    {
      "cell_type": "markdown",
      "source": [
        "### Q1.2.1 (5 points)\n",
        "\n",
        "Prove that there exists a homography **H** that satisfies $\\textbf{x}_1 ≡ \\textbf{Hx}_2$, given two cameras separated by a pure rotation."
      ],
      "metadata": {
        "id": "nbs3Rlf9Hsxj"
      }
    },
    {
      "cell_type": "markdown",
      "source": [
        "Given the camera projection equations:\n",
        "$$\\textbf{x}_1 \\equiv \\textbf{K}_1\\textbf{[I|0]}\\textbf{X} \\\\\n",
        "\\textbf{x}_2 \\equiv \\textbf{K}_2\\textbf{[R|0]}\\textbf{X}$$\n",
        "\n",
        "Let $\\textbf{X}_{C1}$be the 3D world point in the first camera’s frame. Since translation is zero, the projections simplify to:\n",
        "$$\\mathbf{x}_1 \\equiv \\textbf{K}_1 \\mathbf{X}_{C1}$$ \\\n",
        "$$\\mathbf{x}_2 \\equiv \\textbf{K}_2\\textbf{R} \\mathbf{X}_{C1}$$\n",
        "\n",
        "Hence,\n",
        "  $$\\mathbf{X}_{C1}\\equiv\\textbf{K}_1^{-1}\\textbf{x}_1$$\n",
        "  Substitue $\\textbf{X}_{C1}$ into $\\mathbf{x}_2$ \\\n",
        "  $$\\mathbf{x}_2\\equiv(\\textbf{K}_2\\textbf{R}\\textbf{K}_1^{-1})\\textbf{x}_1$$\n",
        "\n",
        "  Isolate $\\textbf{x}_1$ to define to define the $\\textbf{H}$ where\n",
        "  $$\\mathbf{x}_1\\equiv(\\textbf{K}_1\\textbf{R}^{-1}\\textbf{K}_2^{-1})\\textbf{x}_2$$\n",
        "Hence,\n",
        "$$\\textbf{H}=\\textbf{K}_1\\textbf{R}^{-1}\\textbf{K}_2^{-1}$$\n",
        "  \n",
        "\n",
        "\n",
        "\n",
        "---"
      ],
      "metadata": {
        "id": "rsG5O1LxIPZM"
      }
    },
    {
      "cell_type": "markdown",
      "source": [
        "### Q1.2.2 (5 points):\n",
        "\n",
        "Show that $\\textbf{H}^2$ is the homography corresponding to a rotation of 2$\\theta$."
      ],
      "metadata": {
        "id": "aAmg9ZKYH_CS"
      }
    },
    {
      "cell_type": "markdown",
      "source": [
        "---\n",
        "\n",
        "YOUR ANSWER HERE...\n",
        "Since, the problem is same as in 1.2.1 because rotating the same camera is equivalent to placing two cameras at an angle. Given\n",
        "$$\\textbf{K}_1=\\textbf{K}_2=\\textbf{K}$$\n",
        " $$\\mathbf{x}_2\\equiv(\\textbf{K}\\textbf{R}\\textbf{K}^{-1})\\textbf{x}_1$$\n",
        "\n",
        "$$\\textbf{H}^2=(\\textbf{K}\\textbf{R($\\theta$)}\\textbf{K}^{-1})(\\textbf{K}\\textbf{R($\\theta$)}\\textbf{K}^{-1})=\\textbf{K}\\textbf{R(2$\\theta$)}\\textbf{K}^{-1}$$\n",
        "\n",
        " $$\\mathbf{R}^2(\\theta) = \\begin{pmatrix}\n",
        "(\\cos\\theta\\cos\\theta - \\sin\\theta\\sin\\theta) & (-\\cos\\theta\\sin\\theta - \\sin\\theta\\cos\\theta) \\\\\n",
        "(\\sin\\theta\\cos\\theta + \\cos\\theta\\sin\\theta) & (-\\sin\\theta\\sin\\theta + \\cos\\theta\\cos\\theta)\n",
        "\\end{pmatrix}$$=\\begin{pmatrix}\n",
        "(\\cos^2\\theta - \\sin^2\\theta) & -2\\sin\\theta\\cos\\theta \\\\\n",
        "2\\sin\\theta\\cos\\theta & (\\cos^2\\theta - \\sin^2\\theta)\n",
        "\\end{pmatrix} = \\begin{pmatrix}\n",
        "\\cos(2\\theta) & -\\sin(2\\theta) \\\\\n",
        "\\sin(2\\theta) & \\cos(2\\theta)\n",
        "\\end{pmatrix}$$=\\textbf{R(2$\\theta$)}\n",
        "$$\n",
        "\n",
        "---"
      ],
      "metadata": {
        "id": "PHTOTcBfIOgf"
      }
    },
    {
      "cell_type": "markdown",
      "source": [
        "# Initialization\n",
        "\n",
        "Run the following code to import the modules you'll need."
      ],
      "metadata": {
        "id": "xVej912cKEb7"
      }
    },
    {
      "cell_type": "code",
      "source": [
        "import os\n",
        "import numpy as np\n",
        "import cv2\n",
        "import skimage.color\n",
        "import pickle\n",
        "from matplotlib import pyplot as plt\n",
        "import scipy\n",
        "from skimage.util import montage\n",
        "import time\n",
        "\n",
        "PATCHWIDTH = 9\n",
        "\n",
        "def read_pickle(path):\n",
        "    with open(path, \"rb\") as f:\n",
        "        return pickle.load(f)\n",
        "\n",
        "def write_pickle(path, data):\n",
        "    with open(path, \"wb\") as f:\n",
        "        pickle.dump(data, f)\n",
        "\n",
        "def briefMatch(desc1,desc2,ratio):\n",
        "\n",
        "    matches = skimage.feature.match_descriptors(desc1,desc2,\n",
        "                                                'hamming',\n",
        "                                                cross_check=True,\n",
        "                                                max_ratio=ratio)\n",
        "    return matches\n",
        "\n",
        "def plotMatches(img1,img2,matches,locs1,locs2):\n",
        "\n",
        "    fig, ax = plt.subplots(nrows=1, ncols=1)\n",
        "    img1 = cv2.cvtColor(img1, cv2.COLOR_BGR2GRAY)\n",
        "    img2 = cv2.cvtColor(img2, cv2.COLOR_BGR2GRAY)\n",
        "    plt.axis('off')\n",
        "    skimage.feature.util.plot_matched_features(img1,                   # Positional argument 1: image0\n",
        "        img2,                   # Positional argument 2: image1\n",
        "        keypoints0=locs1,       # Required keyword argument for keypoints in image 0\n",
        "        keypoints1=locs2,       # Required keyword argument for keypoints in image 1\n",
        "        matches=matches,        # Required keyword argument for match indices\n",
        "        ax=ax,                  # Required keyword argument for Matplotlib axis\n",
        "        matches_color='r',      # Optional coloring\n",
        "        only_matches=True)\n",
        "    plt.show()\n",
        "    return\n",
        "\n",
        "def makeTestPattern(patchWidth, nbits):\n",
        "\n",
        "    np.random.seed(0)\n",
        "    compareX = patchWidth*patchWidth * np.random.random((nbits,1))\n",
        "    compareX = np.floor(compareX).astype(int)\n",
        "    np.random.seed(1)\n",
        "    compareY = patchWidth*patchWidth * np.random.random((nbits,1))\n",
        "    compareY = np.floor(compareY).astype(int)\n",
        "\n",
        "    return (compareX, compareY)\n",
        "\n",
        "def computePixel(img, idx1, idx2, width, center):\n",
        "\n",
        "    halfWidth = width // 2\n",
        "    col1 = idx1 % width - halfWidth\n",
        "    row1 = idx1 // width - halfWidth\n",
        "    col2 = idx2 % width - halfWidth\n",
        "    row2 = idx2 // width - halfWidth\n",
        "    # Compare normalized pixel values\n",
        "    return 1 if img[int(center[0]+row1)][int(center[1]+col1)] < img[int(center[0]+row2)][int(center[1]+col2)] else 0\n",
        "\n",
        "def computeBrief(img, locs):\n",
        "\n",
        "    patchWidth = 9\n",
        "    nbits = 256\n",
        "    compareX, compareY = makeTestPattern(patchWidth,nbits)\n",
        "    m, n = img.shape\n",
        "\n",
        "    halfWidth = patchWidth//2\n",
        "\n",
        "    locs = locs.astype(int)\n",
        "    locs = np.array(list(filter(lambda x: halfWidth <= x[0] < m-halfWidth and halfWidth <= x[1] < n-halfWidth, locs)))\n",
        "    desc = np.array([list(map(lambda x: computePixel(img, x[0], x[1], patchWidth, c), zip(compareX, compareY))) for c in locs])\n",
        "\n",
        "    return desc, locs\n",
        "\n",
        "def corner_detection(img, sigma):\n",
        "\n",
        "    # fast method\n",
        "    result_img = skimage.feature.corner_fast(img, n=PATCHWIDTH, threshold=sigma)\n",
        "    locs = skimage.feature.corner_peaks(result_img, min_distance=1)\n",
        "    return locs\n",
        "\n",
        "def loadVid(path):\n",
        "\n",
        "    # Create a VideoCapture object and read from input file\n",
        "    # If the input is the camera, pass 0 instead of the video file name\n",
        "\n",
        "    cap = cv2.VideoCapture(path)\n",
        "\n",
        "    # get fps, width, and height\n",
        "    fps = cap.get(cv2.CAP_PROP_FPS)\n",
        "    width  = cap.get(cv2.CAP_PROP_FRAME_WIDTH)\n",
        "    height = cap.get(cv2.CAP_PROP_FRAME_HEIGHT)\n",
        "\n",
        "    # Append frames to list\n",
        "    frames = []\n",
        "\n",
        "    # Check if camera opened successfully\n",
        "    if cap.isOpened()== False:\n",
        "        print(\"Error opening video stream or file\")\n",
        "\n",
        "    # Read until video is completed\n",
        "    while(cap.isOpened()):\n",
        "\n",
        "        # Capture frame-by-frame\n",
        "        ret, frame = cap.read()\n",
        "\n",
        "        if ret:\n",
        "            #Store the resulting frame\n",
        "            frames.append(frame)\n",
        "        else:\n",
        "            break\n",
        "\n",
        "    # When everything done, release the video capture object\n",
        "    cap.release()\n",
        "    frames = np.stack(frames)\n",
        "\n",
        "    return frames, fps, width, height"
      ],
      "metadata": {
        "id": "n1APFoozKI6W"
      },
      "execution_count": 2,
      "outputs": []
    },
    {
      "cell_type": "markdown",
      "source": [
        "# Download data\n",
        "\n",
        "Download the required data and setup the results directory. If running on colab, DATA_PARENT_DIR must be <br> DATA_PARENT_DIR = '/content/' <br> <br> Otherwise, use the local directory of your choosing. Data will be downloaded to DATA_PARENT_DIR/hw3_data and a subdirectory DATA_PARENT_DIR/results will be created."
      ],
      "metadata": {
        "id": "QSilkTlDKNKP"
      }
    },
    {
      "cell_type": "code",
      "source": [
        "# Only change this if you are running locally\n",
        "# Default on colab: DATA_PARENT_DIR = '/content/'\n",
        "\n",
        "# Data will be downloaded to DATA_PARENT_DIR/hw3_data\n",
        "# A subdirectory DATA_PARENT_DIR/results will be created\n",
        "\n",
        "DATA_PARENT_DIR = '/content/'\n",
        "\n",
        "if not os.path.exists(DATA_PARENT_DIR):\n",
        "  raise RuntimeError('DATA_PARENT_DIR does not exist: ', DATA_PARENT_DIR)\n",
        "\n",
        "RES_DIR = os.path.join(DATA_PARENT_DIR, 'results')\n",
        "if not os.path.exists(RES_DIR):\n",
        "  os.mkdir(RES_DIR)\n",
        "  print('made directory: ', RES_DIR)\n",
        "\n",
        "\n",
        "#paths different files are saved to\n",
        "# OPTIONAL:\n",
        "# feel free to change if funning locally\n",
        "ROT_MATCHES_PATH = os.path.join(RES_DIR, 'brief_rot_test.pkl')\n",
        "ROT_INV_MATCHES_PATH = os.path.join(RES_DIR, 'ec_brief_rot_inv_test.pkl')\n",
        "AR_VID_FRAMES_PATH = os.path.join(RES_DIR, 'q_3_1_frames.npy')\n",
        "AR_VID_FRAMES_EC_PATH = os.path.join(RES_DIR, 'q_3_2_frames.npy')\n",
        "\n",
        "HW3_SUBDIR = 'hw3_data'\n",
        "DATA_DIR = os.path.join(DATA_PARENT_DIR, HW3_SUBDIR)\n",
        "ZIP_PATH = DATA_DIR + '.zip'\n",
        "if not os.path.exists(DATA_DIR):\n",
        "  !wget 'https://www.andrew.cmu.edu/user/hfreeman/data/16720_spring/hw3_data.zip' -O $ZIP_PATH\n",
        "  !unzip -qq $ZIP_PATH -d $DATA_PARENT_DIR"
      ],
      "metadata": {
        "id": "NqiHjmZ3KPp6",
        "colab": {
          "base_uri": "https://localhost:8080/"
        },
        "outputId": "7db42766-6757-47b4-8e8c-93c057b06d99"
      },
      "execution_count": 3,
      "outputs": [
        {
          "output_type": "stream",
          "name": "stdout",
          "text": [
            "made directory:  /content/results\n",
            "--2025-09-28 15:35:44--  https://www.andrew.cmu.edu/user/hfreeman/data/16720_spring/hw3_data.zip\n",
            "Resolving www.andrew.cmu.edu (www.andrew.cmu.edu)... 128.2.42.53\n",
            "Connecting to www.andrew.cmu.edu (www.andrew.cmu.edu)|128.2.42.53|:443... connected.\n",
            "HTTP request sent, awaiting response... 200 OK\n",
            "Length: 36434294 (35M) [application/zip]\n",
            "Saving to: ‘/content/hw3_data.zip’\n",
            "\n",
            "/content/hw3_data.z 100%[===================>]  34.75M  1.33MB/s    in 27s     \n",
            "\n",
            "2025-09-28 15:36:11 (1.31 MB/s) - ‘/content/hw3_data.zip’ saved [36434294/36434294]\n",
            "\n"
          ]
        }
      ]
    },
    {
      "cell_type": "markdown",
      "source": [
        "# Q2 Computing Planar Homographies"
      ],
      "metadata": {
        "id": "EP_xEJssJnS7"
      }
    },
    {
      "cell_type": "markdown",
      "source": [
        "## Q2.1 Feature Detection and Matching"
      ],
      "metadata": {
        "id": "u_LMTfCeKAgV"
      }
    },
    {
      "cell_type": "markdown",
      "source": [
        "### Q2.1.1 (5 points):\n",
        "\n",
        "How is the FAST detector different from the Harris corner detector that you've seen in the lectures? Can you comment on its computation performance compared to the Harris corner detector?"
      ],
      "metadata": {
        "id": "UloczNPoK3xA"
      }
    },
    {
      "cell_type": "markdown",
      "source": [
        "---\n",
        "\n",
        "\n",
        "\n",
        "\n",
        "YOUR ANSWER HERE...\n",
        "Detection Methodology Differences\\\n",
        "The two detectors identify corners using entirely different principles:\n",
        "\n",
        "\n",
        "Harris Corner Detector (Gradient-Based): The Harris detector is based on the idea of autocorrelation and is derived from image gradients. It uses a mathematical matrix called the structure tensor (H) to measure the change in image intensity when a window is shifted in any direction. A corner is detected if the intensity changes significantly in all directions. This method often requires initial image smoothing to compute stable derivatives.\n",
        "\n",
        "\n",
        "\n",
        "\n",
        "FAST Detector (Intensity Comparison): The FAST detector uses a segment test criterion. It examines a circle of sixteen pixels around a candidate point, p. A point is classified as a corner if a contiguous segment of n pixels (originally n=12, later optimized to n=9) are all significantly brighter than I\n",
        "p\n",
        "​\n",
        " +t or all significantly darker than I\n",
        "p\n",
        "​\n",
        " −t. This approach belongs to a class of detectors that work by examining a small patch to see if it \"looks\" like a corner.\n",
        "\n",
        "\n",
        "\n",
        "Computational Performance:\n",
        "The main advantage of FAST is its unmatched speed, which is the entire rationale behind its design.FAST is Much Faster: FAST achieves high speed by relying on simple pixel-wise comparisons and integer arithmetic. The core process is so efficient that the detector derived from machine learning (FAST-9) can fully process live video using\n",
        "\n",
        "less than 5% of the available processing time.\n",
        "\n",
        "\n",
        "\n",
        "Harris is Slower: The Harris detector is computationally more expensive. It involves floating-point operations like computing image derivatives (via convolutions) and calculating the complex components of the structure tensor. By comparison, the Harris detector was shown to consume 115% of the processing budget for the same frame rate, meaning it cannot operate at frame rate on standard hardware.\n",
        "\n",
        "---"
      ],
      "metadata": {
        "id": "VOF6ydhSK7_0"
      }
    },
    {
      "cell_type": "markdown",
      "source": [
        "### Q2.1.2 (5 points):\n",
        "\n",
        "How is the BRIEF descriptor different from the filterbanks you've seen in the lectures? Could you use any one of the those filter banks as a descriptor?"
      ],
      "metadata": {
        "id": "yHYNk3t8K-Uz"
      }
    },
    {
      "cell_type": "markdown",
      "source": [
        "---\n",
        "\n",
        "YOUR ANSWER HERE...\n",
        "he BRIEF (Binary Robust Independent Elementary Features) descriptor differs from a filterbank-based descriptor primarily in its data type and computational method.\n",
        "\n",
        "Differences in Descriptor Design\n",
        "Data Type and Representation:\n",
        "\n",
        "BRIEF is a binary descriptor, representing a feature patch as a compact string of 1s and 0s.\n",
        "\n",
        "Filterbank descriptors (like those used in SIFT's computation) are typically real-valued vectors of floating-point numbers.\n",
        "\n",
        "Feature Extraction Method:\n",
        "\n",
        "BRIEF avoids complex mathematical operations by using intensity comparisons between randomly sampled pixel pairs within the patch.\n",
        "\n",
        "Filterbanks rely on convolution of the image patch with a bank of kernels (filters), which are tuned to specific orientations, scales, or frequencies.\n",
        "\n",
        "Matching Metric:\n",
        "\n",
        "BRIEF uses the Hamming distance for matching, which is calculated by counting the number of bits that differ between two strings.\n",
        "\n",
        "Filterbank descriptors typically use the Euclidean distance or L2 norm.\n",
        "\n",
        "Computational Cost:\n",
        "\n",
        "BRIEF is extremely fast because it relies solely on simple bitwise and integer operations, which are much quicker than floating-point math.\n",
        "\n",
        "Filterbank extraction has a higher cost due to the multiplication and summation required for convolutions.\n",
        "\n",
        "Usage of Filterbanks as Descriptors:\n",
        "Yes, we could use any of those filterbanks as a descriptor.\n",
        "\n",
        "A descriptor's role is to summarize the local image appearance in a distinctive and stable manner. Since filterbanks (such as those based on Gaussian derivatives) are specifically designed to measure structural properties like texture and gradient orientation, the vector of responses to these filters serves as an effective, albeit usually high-dimensional and computationally expensive, feature descriptor.\n",
        "\n",
        "---"
      ],
      "metadata": {
        "id": "KToPCyT0K-eh"
      }
    },
    {
      "cell_type": "markdown",
      "source": [
        "### Q2.1.3 (5 points):\n",
        "\n",
        "Describe how the Hamming distance and Nearest Neighbor can be used to match interest points with BRIEF descriptors. What benefits does the Hamming distance have over a more conventional Euclidean distance measure in our setting?"
      ],
      "metadata": {
        "id": "R5G5oi3CK-m_"
      }
    },
    {
      "cell_type": "markdown",
      "source": [
        "---\n",
        "\n",
        "YOUR ANSWER HERE...\n",
        "The BRIEF descriptor uses the Hamming distance and Nearest Neighbor search for matching due to the descriptor's binary nature, providing a massive speed advantage over Euclidean distance.\n",
        "\n",
        "Matching with BRIEF Descriptors\n",
        "1. Hamming Distance\n",
        "The Hamming distance is the dedicated metric for comparing fixed-length binary strings.\n",
        "\n",
        "Calculation: The distance between two BRIEF descriptors is calculated by counting the number of positions at which the corresponding bits are different. This is achieved very efficiently in computers by performing a bitwise XOR operation between the two binary strings, and then performing a population count (counting the number of '1' bits in the result).\n",
        "\n",
        "Similarity: A smaller Hamming distance indicates a higher similarity between the two image patches represented by the binary descriptors.\n",
        "\n",
        "2. Nearest Neighbor (NN) Matching\n",
        "The Nearest Neighbor approach uses the Hamming distance to find the best match for every feature:\n",
        "\n",
        "Search: For each BRIEF descriptor in the first image (I\n",
        "1\n",
        "​\n",
        " ), the Hamming distance is calculated to every descriptor in the second image (I\n",
        "2\n",
        "​\n",
        " ).\n",
        "\n",
        "Best Match: The descriptor in I\n",
        "2\n",
        "​\n",
        "  that yields the minimum Hamming distance is designated as the Nearest Neighbor (NN) match.\n",
        "\n",
        "Ratio Test: To reject ambiguous matches, a ratio test is often applied. This involves finding the distance to the Nearest Neighbor and the Second Nearest Neighbor. If the ratio D\n",
        "NN\n",
        "​\n",
        " /D\n",
        "SNN\n",
        "​\n",
        "  is less than a specified threshold (ratio), the match is considered unique and valid.\n",
        "\n",
        "Benefits of Hamming Distance\n",
        "The use of the Hamming distance provides significant benefits over the conventional Euclidean distance (L2 norm) in this setting:\n",
        "\n",
        "Massive Computational Speedup: This is the most attractive property of the Hamming distance. It can be calculated extremely fast (often with a single CPU instruction like popcnt in C++) using simple bitwise XOR operations. In contrast, Euclidean distance requires numerous floating-point multiplications, additions, and a square root, which are much slower. This efficiency is critical for applications like real-time tracking (SLAM).\n",
        "\n",
        "Memory Efficiency: Since binary descriptors are compact, the lower memory access further contributes to faster processing.\n",
        "\n",
        "Appropriate Metric: Hamming distance is the natural and appropriate metric for comparing binary data, as it directly counts the number of disagreements (or substitutions) between the two sequences. Using Euclidean distance on binary (0, 1) vectors is theoretically equivalent to the square root of the Hamming distance, but it is computationally inefficient for this data type.\n",
        "\n",
        "---"
      ],
      "metadata": {
        "id": "DR0yfofdK-qI"
      }
    },
    {
      "cell_type": "markdown",
      "source": [
        "### Q2.1.4 (10 points):"
      ],
      "metadata": {
        "id": "yYf94tnuLFj2"
      }
    },
    {
      "cell_type": "markdown",
      "source": [
        "#### Implement the function matchPics()"
      ],
      "metadata": {
        "id": "aaS9BedvLY8Z"
      }
    },
    {
      "cell_type": "code",
      "source": [
        "def matchPics(I1, I2, ratio, sigma):\n",
        "    \"\"\"\n",
        "    Match features across images\n",
        "\n",
        "    Input\n",
        "    -----\n",
        "    I1, I2: Source images (RGB or Grayscale uint8)\n",
        "    ratio: ratio for BRIEF feature descriptor\n",
        "    sigma: threshold for corner detection using FAST feature detector\n",
        "\n",
        "    Returns\n",
        "    -------\n",
        "    matches: List of indices of matched features across I1, I2 [p x 2]\n",
        "    locs1, locs2: Pixel coordinates of matches [N x 2]\n",
        "    \"\"\"\n",
        "\n",
        "    # ===== your code here! =====\n",
        "\n",
        "    # TODO: Convert images to GrayScale\n",
        "    # Input images can be either RGB or Grayscale uint8 (0 -> 255). Both need\n",
        "    # to be supported.\n",
        "    # Input images must be converted to normalized Grayscale (0.0 -> 1.0)\n",
        "    # skimage.color.rgb2gray may be useful if the input is RGB.\n",
        "    if len(I1.shape) == 3:\n",
        "        I1_gray = skimage.color.rgb2gray(I1)\n",
        "    else:\n",
        "        # Normalize if already grayscale\n",
        "        I1_gray = I1 / 255.0\n",
        "\n",
        "    if len(I2.shape) == 3:\n",
        "        I2_gray = skimage.color.rgb2gray(I2)\n",
        "    else:\n",
        "        I2_gray = I2 / 255.0\n",
        "\n",
        "    # TODO: Detect features in both images\n",
        "    locs1 = corner_detection(I1_gray, sigma)\n",
        "    locs2 = corner_detection(I2_gray, sigma)\n",
        "\n",
        "\n",
        "\n",
        "    # TODO: Obtain descriptors for the computed feature locations\n",
        "    desc1, locs1 = computeBrief(I1_gray, locs1)\n",
        "    desc2, locs2 = computeBrief(I2_gray, locs2)\n",
        "\n",
        "\n",
        "    # TODO: Match features using the descriptors\n",
        "    matches = briefMatch(desc1, desc2, ratio)\n",
        "\n",
        "\n",
        "    # ==== end of code ====\n",
        "\n",
        "    return matches, locs1, locs2"
      ],
      "metadata": {
        "id": "8swkl2ZPLeEF"
      },
      "execution_count": 4,
      "outputs": []
    },
    {
      "cell_type": "markdown",
      "source": [
        "#### Implement the function displayMatched"
      ],
      "metadata": {
        "id": "9PbguUiBOEbc"
      }
    },
    {
      "cell_type": "code",
      "source": [
        "def displayMatched(I1, I2, ratio, sigma):\n",
        "    \"\"\"\n",
        "    Displays matches between two images\n",
        "\n",
        "    Input\n",
        "    -----\n",
        "    I1, I2: Source images\n",
        "    ratio: ratio for BRIEF feature descriptor\n",
        "    sigma: threshold for corner detection using FAST feature detector\n",
        "    \"\"\"\n",
        "\n",
        "    print('Displaying matches for ratio: ', ratio, ' and sigma: ', sigma)\n",
        "\n",
        "    # ===== your code here! =====\n",
        "    # TODO: Use matchPics and plotMatches to visualize your results\n",
        "    matches, locs1, locs2 = matchPics(I1, I2, ratio, sigma)\n",
        "    print(f\"Total Matches Found: {matches.shape[0]}\")\n",
        "\n",
        "\n",
        "\n",
        "    plotMatches(I1, I2, matches, locs1, locs2)\n",
        "\n",
        "    # ==== end of code ===="
      ],
      "metadata": {
        "id": "abOKYaf0OIT7"
      },
      "execution_count": 5,
      "outputs": []
    },
    {
      "cell_type": "markdown",
      "source": [],
      "metadata": {
        "id": "HwGtoxkIoCOc"
      }
    },
    {
      "cell_type": "markdown",
      "source": [
        "#### Visualize the matches\n",
        "\n",
        "Use the cell below to visualize the matches. The resulting figure should look similar (but not necessarily identical) to Figure 2.\n",
        "\n",
        "Feel free to play around with the images and parameters. Please use the original images when submitting the report.\n",
        "\n",
        "Figure 2 parameters:\n",
        "\n",
        "*   image1_name = \"cv_cover.jpg\"\n",
        "*   image1_name = \"cv_desk.png\"\n",
        "*   ratio = 0.7\n",
        "*   sigma = 0.15"
      ],
      "metadata": {
        "id": "j_1YQVrLOUm9"
      }
    },
    {
      "cell_type": "code",
      "source": [
        "# Feel free to play around with these parameters\n",
        "# BUT when submitting the report use the original images\n",
        "image1_name = \"cv_cover.jpg\"\n",
        "image2_name = \"cv_desk.png\"\n",
        "ratio = 0.7\n",
        "sigma = 0.15\n",
        "\n",
        "image1_path = os.path.join(DATA_DIR, image1_name)\n",
        "image2_path = os.path.join(DATA_DIR, image2_name)\n",
        "\n",
        "image1 = cv2.imread(image1_path)\n",
        "image2 = cv2.imread(image2_path)\n",
        "\n",
        "#bgr to rgb\n",
        "if len(image1.shape) == 3 and image1.shape[2] == 3:\n",
        "  image1 = cv2.cvtColor(image1, cv2.COLOR_BGR2RGB)\n",
        "\n",
        "if len(image2.shape) == 3 and image2.shape[2] == 3:\n",
        "  image2 = cv2.cvtColor(image2, cv2.COLOR_BGR2RGB)\n",
        "\n",
        "displayMatched(image1, image2, ratio, sigma)"
      ],
      "metadata": {
        "id": "bMQu3KADP13i",
        "colab": {
          "base_uri": "https://localhost:8080/",
          "height": 315
        },
        "outputId": "268728b3-9bc2-435d-a6e9-61e7e64cb99d"
      },
      "execution_count": 6,
      "outputs": [
        {
          "output_type": "stream",
          "name": "stdout",
          "text": [
            "Displaying matches for ratio:  0.7  and sigma:  0.15\n"
          ]
        },
        {
          "output_type": "stream",
          "name": "stderr",
          "text": [
            "/tmp/ipython-input-5728546.py:65: DeprecationWarning: Conversion of an array with ndim > 0 to a scalar is deprecated, and will error in future. Ensure you extract a single element from your array before performing this operation. (Deprecated NumPy 1.25.)\n",
            "  return 1 if img[int(center[0]+row1)][int(center[1]+col1)] < img[int(center[0]+row2)][int(center[1]+col2)] else 0\n"
          ]
        },
        {
          "output_type": "stream",
          "name": "stdout",
          "text": [
            "Total Matches Found: 24\n"
          ]
        },
        {
          "output_type": "display_data",
          "data": {
            "text/plain": [
              "<Figure size 640x480 with 1 Axes>"
            ],
            "image/png": "[encoded data removed]"
          },
          "metadata": {}
        }
      ]
    },
    {
      "cell_type": "markdown",
      "source": [
        "### Q2.1.5 (10 points):\n",
        "\n",
        "Experiment with different sigma and ratio values. Conduct a small ablation study, and include the figures displaying the matched features with various parameters in your write-up. Explain the effect of these two paremeters respectively."
      ],
      "metadata": {
        "id": "NNnN1LFXPzw8"
      }
    },
    {
      "cell_type": "markdown",
      "source": [
        "---\n",
        "\n",
        "Explain the effect of these two parameters: YOUR ANSWER HERE...\n",
        "\n",
        "---"
      ],
      "metadata": {
        "id": "VUpFx871U4Vn"
      }
    },
    {
      "cell_type": "code",
      "source": [
        "image1_name = \"cv_cover.jpg\"\n",
        "image2_name = \"cv_desk.png\"\n",
        "\n",
        "image1_path = os.path.join(DATA_DIR, image1_name)\n",
        "image2_path = os.path.join(DATA_DIR, image2_name)\n",
        "\n",
        "image1 = cv2.imread(image1_path)\n",
        "image2 = cv2.imread(image2_path)\n",
        "\n",
        "#bgr to rgb\n",
        "if len(image1.shape) == 3 and image1.shape[2] == 3:\n",
        "  image1 = cv2.cvtColor(image1, cv2.COLOR_BGR2RGB)\n",
        "\n",
        "if len(image2.shape) == 3 and image2.shape[2] == 3:\n",
        "  image2 = cv2.cvtColor(image2, cv2.COLOR_BGR2RGB)\n",
        "\n",
        "# ===== your code here! =====\n",
        "# Experiment with different sigma and ratio values.\n",
        "# Use displayMatches to visualize.\n",
        "# Include the matched feature figures in the write-up.\n",
        "\n",
        "# ==== end of code ===="
      ],
      "metadata": {
        "id": "jJSAi4SYVFCP"
      },
      "execution_count": null,
      "outputs": []
    },
    {
      "cell_type": "markdown",
      "source": [
        "### Q2.1.6 (10 points):"
      ],
      "metadata": {
        "id": "S9RCZDgxVPcn"
      }
    },
    {
      "cell_type": "markdown",
      "source": [
        "#### Implement the function briefRot"
      ],
      "metadata": {
        "id": "92OH4A-xWTjr"
      }
    },
    {
      "cell_type": "code",
      "source": [
        "def briefRot(min_deg, max_deg, deg_inc, ratio, sigma, filename):\n",
        "    \"\"\"\n",
        "    Tests Brief with rotations.\n",
        "\n",
        "    Input\n",
        "    -----\n",
        "    min_deg: minimum degree to rotate image\n",
        "    max_deg: maximum degree to rotate image\n",
        "    deg_inc: number of degrees to increment when iterating\n",
        "    ratio: ratio for BRIEF feature descriptor\n",
        "    sigma: threshold for corner detection using FAST feature detector\n",
        "    filename: filename of image to rotate\n",
        "\n",
        "    \"\"\"\n",
        "\n",
        "    if not os.path.exists(RES_DIR):\n",
        "      raise RuntimeError('RES_DIR does not exist. did you run all cells?')\n",
        "\n",
        "    # Read the image and convert bgr to rgb\n",
        "    image_path = os.path.join(DATA_DIR, filename)\n",
        "    image = cv2.imread(image_path)\n",
        "    if len(image.shape) == 3 and image.shape[2] == 3:\n",
        "      image = cv2.cvtColor(image, cv2.COLOR_BGR2RGB)\n",
        "\n",
        "    match_degrees = [] # stores the degrees of rotation\n",
        "    match_counts = [] # stores the number of matches at each degree of rotation\n",
        "\n",
        "    for i in range(min_deg, max_deg, deg_inc):\n",
        "        print(i)\n",
        "\n",
        "        # ===== your code here! =====\n",
        "        # TODO: Rotate Image (Hint: use scipy.ndimage.rotate)\n",
        "\n",
        "        # TODO: Match features in images\n",
        "\n",
        "        # TODO: visualizes matches at at least 3 different orientations\n",
        "        # to include in your report\n",
        "        # (Hint: use plotMatches)\n",
        "\n",
        "        # TODO: Update match_degrees and match_counts (see descriptions above)\n",
        "\n",
        "        # ==== end of code ====\n",
        "\n",
        "    # Save to pickle file\n",
        "    matches_to_save = [match_counts, match_degrees, deg_inc]\n",
        "    write_pickle(ROT_MATCHES_PATH, matches_to_save)\n",
        "\n",
        "def dispBriefRotHist(matches_path=ROT_MATCHES_PATH):\n",
        "    # Check if pickle file exists\n",
        "    if not os.path.exists(matches_path):\n",
        "      raise RuntimeError('matches_path does not exist. did you call briefRot?')\n",
        "\n",
        "    # Read from pickle file\n",
        "    match_counts, match_degrees, deg_inc = read_pickle(matches_path)\n",
        "\n",
        "    # Display histogram\n",
        "    # Bins are centered and separated every 10 degrees\n",
        "    plt.figure()\n",
        "    bins = [x - deg_inc/2 for x in match_degrees]\n",
        "    bins.append(bins[-1] + deg_inc)\n",
        "    plt.hist(match_degrees, bins=bins, weights=match_counts, log=True)\n",
        "    #plt.hist(match_degrees, bins=[10 * (x-0.5) for x in range(37)], weights=match_counts, log=True)\n",
        "    plt.title(\"Histogram of BREIF matches\")\n",
        "    plt.ylabel(\"# of matches\")\n",
        "    plt.xlabel(\"Rotation (deg)\")\n",
        "    plt.tight_layout()\n",
        "\n",
        "    output_path = os.path.join(RES_DIR, 'histogram.png')\n",
        "    plt.savefig(output_path)"
      ],
      "metadata": {
        "id": "YRRxYBbdWUt7"
      },
      "execution_count": null,
      "outputs": []
    },
    {
      "cell_type": "markdown",
      "source": [
        "#### Visualize the matches under rotation\n",
        "\n",
        "See debugging tips in handout.\n"
      ],
      "metadata": {
        "id": "wgS7aWEpZ_Ms"
      }
    },
    {
      "cell_type": "code",
      "source": [
        "# defaults are:\n",
        "# min_deg = 0\n",
        "# max_deg = 360\n",
        "# deg_inc = 10\n",
        "# ratio = 0.7\n",
        "# sigma = 0.15\n",
        "# filename = 'cv_cover.jpg'\n",
        "\n",
        "# Controls the rotation degrees\n",
        "min_deg = 0\n",
        "max_deg = 360\n",
        "deg_inc = 10\n",
        "\n",
        "# Brief feature descriptor and Fast feature detector paremeters\n",
        "# (change these if you want to use different values)\n",
        "ratio = 0.7\n",
        "sigma = 0.15\n",
        "\n",
        "# image to rotate and match\n",
        "# (no need to change this but can if you want to experiment)\n",
        "filename = 'cv_cover.jpg'\n",
        "\n",
        "# Call briefRot\n",
        "briefRot(min_deg, max_deg, deg_inc, ratio, sigma, filename)"
      ],
      "metadata": {
        "id": "bljSMVN_aC30"
      },
      "execution_count": null,
      "outputs": []
    },
    {
      "cell_type": "markdown",
      "source": [
        "#### Plot the histogram\n",
        "\n",
        "See debugging tips in handout."
      ],
      "metadata": {
        "id": "f_bVTlZpnH3I"
      }
    },
    {
      "cell_type": "code",
      "source": [
        "dispBriefRotHist()"
      ],
      "metadata": {
        "id": "gBqQz6uTnKvs"
      },
      "execution_count": null,
      "outputs": []
    },
    {
      "cell_type": "markdown",
      "source": [
        "---\n",
        "\n",
        "Explain why you think the BRIEF descriptor behves this way: YOUR ANSWER HERE...\n",
        "\n",
        "---"
      ],
      "metadata": {
        "id": "J7dy2RmzyNq8"
      }
    },
    {
      "cell_type": "markdown",
      "source": [
        "### Q2.1.7.1 (Extra Credit - 5 points):\n",
        "\n",
        "Design a fix to make BRIEF more rotation invariant. Feel free to make any helper functions as necessary. But you cannot use any additional OpenCV or Scikit-Image functions."
      ],
      "metadata": {
        "id": "NlFrbBKVnWsf"
      }
    },
    {
      "cell_type": "code",
      "source": [
        "# ===== your code here! =====\n",
        "# TODO: Define any helper functions here\n",
        "# (Feel free to put anything in its own cell)\n",
        "\n",
        "# TODO: Feel free to modify the inputs and the function body as necessary\n",
        "# This is only an outline\n",
        "def briefRotInvEc(min_deg, max_deg, deg_inc, ratio, sigma, filename):\n",
        "    \"\"\"\n",
        "    Rotation invariant Brief.\n",
        "\n",
        "    Input\n",
        "    -----\n",
        "    min_deg: minimum degree to rotate image\n",
        "    max_deg: maximum degree to rotate image\n",
        "    deg_inc: number of degrees to increment when iterating\n",
        "    ratio: ratio for BRIEF feature descriptor\n",
        "    sigma: threshold for corner detection using FAST feature detector\n",
        "    filename: filename of image to rotate\n",
        "\n",
        "    \"\"\"\n",
        "\n",
        "    if not os.path.exists(RES_DIR):\n",
        "      raise RuntimeError('RES_DIR does not exist. did you run all cells?')\n",
        "\n",
        "    #Read the image and convert bgr to rgb\n",
        "    image_path = os.path.join(DATA_DIR, filename)\n",
        "    image = cv2.imread(image_path)\n",
        "    if len(image.shape) == 3 and image.shape[2] == 3:\n",
        "      image = cv2.cvtColor(image, cv2.COLOR_BGR2RGB)\n",
        "\n",
        "    match_degrees = [] # stores the degrees of rotation\n",
        "    match_counts = [] # stores the number of matches at each degree of rotation\n",
        "\n",
        "    for i in range(min_deg, max_deg, deg_inc):\n",
        "        print(i)\n",
        "\n",
        "        # TODO: Rotate Image (Hint: use scipy.ndimage.rotate)\n",
        "\n",
        "        # TODO: Brief matcher that is rotation invariant\n",
        "        # Feel free to define additional helper functions as necessary\n",
        "\n",
        "        # TODO: visualizes matches at at least 3 different orientations\n",
        "        # to include in your report\n",
        "        # (Hint: use plotMatches)\n",
        "\n",
        "        # TODO: Update match_degrees and match_counts (see descriptions above)\n",
        "\n",
        "    # Save to pickle file\n",
        "    matches_to_save = [match_counts, match_degrees, deg_inc]\n",
        "    write_pickle(ROT_INV_MATCHES_PATH, matches_to_save)\n",
        "\n",
        "# ==== end of code ===="
      ],
      "metadata": {
        "id": "HoTJjqWvnezC"
      },
      "execution_count": null,
      "outputs": []
    },
    {
      "cell_type": "markdown",
      "source": [
        "#### Visualize your implemented function\n"
      ],
      "metadata": {
        "id": "kBiJe0FMoTek"
      }
    },
    {
      "cell_type": "code",
      "source": [
        "min_deg = 0\n",
        "max_deg = 360\n",
        "deg_inc = 10\n",
        "filename = 'cv_cover.jpg'\n",
        "\n",
        "# ===== your code here! =====\n",
        "# TODO: Call briefRotInvEc and visualize\n",
        "\n",
        "# ==== end of code ====\n"
      ],
      "metadata": {
        "id": "yyV5zUOsoVC6"
      },
      "execution_count": null,
      "outputs": []
    },
    {
      "cell_type": "markdown",
      "source": [
        "#### Plot Histogram"
      ],
      "metadata": {
        "id": "APSoI4cx3Khh"
      }
    },
    {
      "cell_type": "code",
      "source": [
        "dispBriefRotHist(matches_path=ROT_INV_MATCHES_PATH)"
      ],
      "metadata": {
        "id": "pDH-hwYx3Fhx"
      },
      "execution_count": null,
      "outputs": []
    },
    {
      "cell_type": "markdown",
      "source": [
        "---\n",
        "\n",
        "Compare the histograms with an without rotation invariance. Explain your rotation invariant design and how you selected any parameters that you used: YOUR ANSWER HERE...\n",
        "\n",
        "---"
      ],
      "metadata": {
        "id": "Rf0_5X-FaTLs"
      }
    },
    {
      "cell_type": "markdown",
      "source": [
        "### Q2.1.7.2 (Extra Credit - 5 points):\n",
        "\n",
        "Design a fix to make BRIEF more scale invariant. Feel free to make any helper functions as necessary. But you cannot use any additional OpenCV or Scikit-Image functions.\n"
      ],
      "metadata": {
        "id": "2etDiBTYU6Gk"
      }
    },
    {
      "cell_type": "code",
      "source": [
        "# ===== your code here! =====\n",
        "# TODO: Define any helper functions here\n",
        "# (Feel free to put anything in its own cell)\n",
        "\n",
        "# TODO: Modify the inputs and the function body as necessary\n",
        "def briefScaleInvEc(ratio, sigma, filename):\n",
        "\n",
        "    #Read the image and convert bgr to rgb\n",
        "    image_path = os.path.join(DATA_DIR, filename)\n",
        "    image = cv2.imread(image_path)\n",
        "    if len(image.shape) == 3 and image.shape[2] == 3:\n",
        "      image = cv2.cvtColor(image, cv2.COLOR_BGR2RGB)\n",
        "\n",
        "    match_scales = [] # stores the scaling factors\n",
        "    match_counts = [] # stores the number of matches at each scaling factor\n",
        "\n",
        "    for i in [1]:\n",
        "        # Scale Image\n",
        "        image_scale = cv2.resize(image,(int(image.shape[1]/(2**i)),\n",
        "                                        int(image.shape[0]/(2**i))),\n",
        "                                 interpolation = cv2.INTER_AREA)\n",
        "\n",
        "        # TODO: Brief matcher that is scale invariant\n",
        "        # Feel free to define additional helper functions as necessary\n",
        "\n",
        "        # Compare to regular matchPics\n",
        "        matches_orig, locs1_orig, locs2_orig = matchPics(image,\n",
        "                                                         image_scale,\n",
        "                                                         ratio, sigma)\n",
        "\n",
        "        print('plotting non-scale invariant scale: ', 2**i)\n",
        "        plotMatches(image, image_scale, matches_orig, locs1_orig,\n",
        "                    locs2_orig)\n",
        "        print('plotting scale-invariant: ', 2**i)\n",
        "        plotMatches(image, image_scale, matches, locs1, locs2)\n",
        "\n",
        "# ==== end of code ===="
      ],
      "metadata": {
        "id": "p67rwurqoiJ5"
      },
      "execution_count": null,
      "outputs": []
    },
    {
      "cell_type": "markdown",
      "source": [
        "#### Visualize your implemented function"
      ],
      "metadata": {
        "id": "yFyosM3eozUn"
      }
    },
    {
      "cell_type": "code",
      "source": [
        "# ===== your code here! =====\n",
        "# TODO: Call briefScaleInvEc and visualize\n",
        "# You may change any parameters and the function body as necessary\n",
        "\n",
        "filename = 'cv_cover.jpg'\n",
        "\n",
        "ratio = 0.7\n",
        "sigma = 0.15\n",
        "\n",
        "briefScaleInvEc(ratio, sigma, filename)\n",
        "# ==== end of code ===="
      ],
      "metadata": {
        "id": "aU2x5YCCo0Mq"
      },
      "execution_count": null,
      "outputs": []
    },
    {
      "cell_type": "markdown",
      "source": [
        "---\n",
        "\n",
        "Explain your scale invariant design and how you selected any parameters that you used: YOUR ANSWER HERE...\n",
        "\n",
        "---\n"
      ],
      "metadata": {
        "id": "RHrYNH9PaNlT"
      }
    },
    {
      "cell_type": "markdown",
      "source": [
        "## Q2.2 Homography Computation"
      ],
      "metadata": {
        "id": "OzkreaAfqoRp"
      }
    },
    {
      "cell_type": "markdown",
      "source": [
        "### Q2.2.1 (15 Points):\n",
        "\n",
        "Implement the function computeH"
      ],
      "metadata": {
        "id": "DO2ZtP1FqtO7"
      }
    },
    {
      "cell_type": "code",
      "source": [
        "def computeH(x1, x2):\n",
        "    \"\"\"\n",
        "    Compute the homography between two sets of points\n",
        "\n",
        "    Input\n",
        "    -----\n",
        "    x1, x2: Sets of points\n",
        "\n",
        "    Returns\n",
        "    -------\n",
        "    H2to1: 3x3 homography matrix that best transforms x2 to x1\n",
        "    \"\"\"\n",
        "\n",
        "    if x1.shape != x2.shape:\n",
        "        raise RuntimeError('number of points do not match')\n",
        "\n",
        "    # ===== your code here! =====\n",
        "    # TODO: Compute the homography between two sets of points\n",
        "\n",
        "    # ==== end of code ====\n",
        "\n",
        "    return H2to1"
      ],
      "metadata": {
        "id": "A7f3XCdnq3P5"
      },
      "execution_count": null,
      "outputs": []
    },
    {
      "cell_type": "markdown",
      "source": [
        "### Q2.2.2 (10 points):\n",
        "\n",
        "Implement the function computeH_norm"
      ],
      "metadata": {
        "id": "3ibYT3PksXqf"
      }
    },
    {
      "cell_type": "code",
      "source": [
        "def computeH_norm(x1, x2):\n",
        "    \"\"\"\n",
        "    Compute the homography between two sets of points using normalization\n",
        "\n",
        "    Input\n",
        "    -----\n",
        "    x1, x2: Sets of points\n",
        "\n",
        "    Returns\n",
        "    -------\n",
        "    H2to1: 3x3 homography matrix that best transforms x2 to x1\n",
        "    \"\"\"\n",
        "\n",
        "    # ===== your code here! =====\n",
        "\n",
        "    # TODO: Compute the centroid of the points\n",
        "\n",
        "\n",
        "    # TODO: Shift the origin of the points to the centroid\n",
        "\n",
        "\n",
        "    # TODO: Normalize the points so that the largest distance from the\n",
        "    # origin is equal to sqrt(2)\n",
        "\n",
        "\n",
        "    # TODO: Similarity transform 1\n",
        "\n",
        "\n",
        "    # TODO: Similarity transform 2\n",
        "\n",
        "\n",
        "    # TODO: Compute homography\n",
        "\n",
        "\n",
        "    # TODO: Denormalization\n",
        "\n",
        "    # ==== end of code ====\n",
        "\n",
        "    return H2to1"
      ],
      "metadata": {
        "id": "RSjmrN6FsY1Y"
      },
      "execution_count": null,
      "outputs": []
    },
    {
      "cell_type": "markdown",
      "source": [
        "### Q2.2.3 (25 points):\n",
        "\n",
        "Implement RANSAC"
      ],
      "metadata": {
        "id": "bPwUyy_Ls0fr"
      }
    },
    {
      "cell_type": "code",
      "source": [
        "def computeH_ransac(locs1, locs2, max_iters, inlier_tol):\n",
        "    \"\"\"\n",
        "    Estimate the homography between two sets of points using ransac\n",
        "\n",
        "    Input\n",
        "    -----\n",
        "    locs1, locs2: Lists of points\n",
        "    max_iters: the number of iterations to run RANSAC for\n",
        "    inlier_tol: the tolerance value for considering a point to be an inlier\n",
        "\n",
        "    Returns\n",
        "    -------\n",
        "    bestH2to1: 3x3 homography matrix that best transforms locs2 to locs1\n",
        "    inliers: indices of RANSAC inliers\n",
        "\n",
        "    \"\"\"\n",
        "\n",
        "    # ===== your code here! =====\n",
        "\n",
        "    # TODO:\n",
        "    # Compute the best fitting homography using RANSAC\n",
        "    # given a list of matching points locs1 and loc2\n",
        "\n",
        "    # ==== end of code ====\n",
        "\n",
        "    return bestH2to1, best_inliers"
      ],
      "metadata": {
        "id": "NftB2v5gs2Pm"
      },
      "execution_count": null,
      "outputs": []
    },
    {
      "cell_type": "markdown",
      "source": [
        "### Q2.2.4 (10 points):"
      ],
      "metadata": {
        "id": "VenHKIvDuHsB"
      }
    },
    {
      "cell_type": "markdown",
      "source": [
        "#### Implement the function compositeH"
      ],
      "metadata": {
        "id": "rnYzdj2owfqG"
      }
    },
    {
      "cell_type": "code",
      "source": [
        "def compositeH(H2to1, template, img):\n",
        "    \"\"\"\n",
        "    Returns the composite image.\n",
        "\n",
        "    Input\n",
        "    -----\n",
        "    H2to1: Homography from image to template\n",
        "    template: template image to be warped\n",
        "    img: background image\n",
        "\n",
        "    Returns\n",
        "    -------\n",
        "    composite_img: Composite image\n",
        "\n",
        "    \"\"\"\n",
        "\n",
        "    # ===== your code here! =====\n",
        "    # TODO: Create a composite image after warping the template image on top\n",
        "    # of the image using the homography\n",
        "\n",
        "    # ==== end of code ====\n",
        "\n",
        "    return composite_img"
      ],
      "metadata": {
        "id": "01qrEsy1wh-b"
      },
      "execution_count": null,
      "outputs": []
    },
    {
      "cell_type": "markdown",
      "source": [
        "#### Implement the function warpImage"
      ],
      "metadata": {
        "id": "AJQsP23EzwDd"
      }
    },
    {
      "cell_type": "code",
      "source": [
        "def warpImage(ratio, sigma, max_iters, inlier_tol):\n",
        "    \"\"\"\n",
        "    Warps hp_cover.jpg onto the book cover in cv_desk.png.\n",
        "\n",
        "    Input\n",
        "    -----\n",
        "    ratio: ratio for BRIEF feature descriptor\n",
        "    sigma: threshold for corner detection using FAST feature detector\n",
        "    max_iters: the number of iterations to run RANSAC for\n",
        "    inlier_tol: the tolerance value for considering a point to be an inlier\n",
        "\n",
        "    \"\"\"\n",
        "\n",
        "    hp_cover = skimage.io.imread(os.path.join(DATA_DIR, 'hp_cover.jpg'))\n",
        "    cv_cover = skimage.io.imread(os.path.join(DATA_DIR, 'cv_cover.jpg'))\n",
        "    cv_desk = skimage.io.imread(os.path.join(DATA_DIR, 'cv_desk.png'))\n",
        "    cv_desk = cv_desk[:, :, :3]\n",
        "\n",
        "    # ===== your code here! =====\n",
        "\n",
        "    # TODO: match features between cv_desk and cv_cover using matchPics\n",
        "\n",
        "    # TODO: Scale matched pixels in cv_cover to size of hp_cover\n",
        "\n",
        "    # TODO: Get homography by RANSAC using computeH_ransac\n",
        "\n",
        "    # TODO: Overlay using compositeH to return composite_img\n",
        "    composite_img = None\n",
        "\n",
        "    # ==== end of code ====\n",
        "\n",
        "    plt.imshow(composite_img)\n",
        "    plt.show()"
      ],
      "metadata": {
        "id": "Xs3lvg-NzybR"
      },
      "execution_count": null,
      "outputs": []
    },
    {
      "cell_type": "markdown",
      "source": [
        "#### Visualize composite image"
      ],
      "metadata": {
        "id": "kjQwjLaXznId"
      }
    },
    {
      "cell_type": "code",
      "source": [
        "# defaults are:\n",
        "# ratio = 0.7\n",
        "# sigma = 0.15\n",
        "# max_iters = 600\n",
        "# inlier_tol = 1.0\n",
        "\n",
        "# (no need to change this but can if you want to experiment)\n",
        "ratio = 0.7\n",
        "sigma = 0.15\n",
        "max_iters = 600\n",
        "inlier_tol = 1.0\n",
        "\n",
        "warpImage(ratio, sigma, max_iters, inlier_tol)"
      ],
      "metadata": {
        "id": "HnuTD9Q_zr79"
      },
      "execution_count": null,
      "outputs": []
    },
    {
      "cell_type": "markdown",
      "source": [
        "### Q2.2.5 (10 points):\n",
        "\n",
        "Conduct ablation study with various max_iters and inlier_tol values. Plot the result images and explain the effect of these two parameters respectively."
      ],
      "metadata": {
        "id": "KpZJjcwz2gAs"
      }
    },
    {
      "cell_type": "code",
      "source": [
        "# ===== your code here! =====\n",
        "# Experiment with different max_iters and inlier_tol values.\n",
        "# Include the result images in the write-up.\n",
        "\n",
        "# ==== end of code ===="
      ],
      "metadata": {
        "id": "LfWvF-Qn3Am5"
      },
      "execution_count": null,
      "outputs": []
    },
    {
      "cell_type": "markdown",
      "source": [
        "---\n",
        "\n",
        "Explain the effect of max_iters and inlier_tol: YOUR ANSWER HERE...\n",
        "\n",
        "---"
      ],
      "metadata": {
        "id": "z9WN7_Jb28zn"
      }
    },
    {
      "cell_type": "markdown",
      "source": [
        "# Q3 Create a Simple Panorama"
      ],
      "metadata": {
        "id": "T7osPM58KQ9J"
      }
    },
    {
      "cell_type": "markdown",
      "source": [
        "## Q3.1 Create a panorama (10 points):"
      ],
      "metadata": {
        "id": "2L9h_VnhcaBE"
      }
    },
    {
      "cell_type": "markdown",
      "source": [
        "#### Implement the function createPanorama"
      ],
      "metadata": {
        "id": "RcM8TokxLixu"
      }
    },
    {
      "cell_type": "code",
      "source": [
        "def createPanorama(left_im, right_im, ratio, sigma, max_iters, inlier_tol):\n",
        "    \"\"\"\n",
        "    Create a panorama augmented reality application by computing a homography\n",
        "    and stitching together a left and right image.\n",
        "\n",
        "    Input\n",
        "    -----\n",
        "    left_im: left image\n",
        "    right_im: right image\n",
        "    ratio: ratio for BRIEF feature descriptor\n",
        "    sigma: threshold for corner detection using FAST feature detector\n",
        "    max_iters: the number of iterations to run RANSAC for\n",
        "    inlier_tol: the tolerance value for considering a point to be an inlier\n",
        "\n",
        "    Returns\n",
        "    -------\n",
        "    panorama_im: Stitched together panorama\n",
        "\n",
        "    \"\"\"\n",
        "\n",
        "    # ===== your code here! =====\n",
        "    # TODO: match features between images\n",
        "    # This can be done using matchPics, cpselect, or any other function.\n",
        "\n",
        "    # TODO: Get homography by RANSAC using computeH_ransac\n",
        "\n",
        "    # TODO: Stich together the two images\n",
        "    # Requires the use of cv2.warpPerspective\n",
        "    panorama_im = None\n",
        "\n",
        "    # ==== end of code ====\n",
        "\n",
        "    return panorama_im.astype(np.uint8)"
      ],
      "metadata": {
        "id": "O2702IEiKVkr"
      },
      "execution_count": null,
      "outputs": []
    },
    {
      "cell_type": "markdown",
      "source": [
        "#### Visualize Panorama\n",
        "\n",
        "Make sure to use **your own images** and **include them as well as the result** in the report."
      ],
      "metadata": {
        "id": "fXpxXNQwMSsa"
      }
    },
    {
      "cell_type": "code",
      "source": [
        "left_im_path = os.path.join(DATA_DIR, 'pano_left.jpg')\n",
        "left_im = skimage.io.imread(left_im_path)\n",
        "right_im_path = os.path.join(DATA_DIR, 'pano_right.jpg')\n",
        "right_im = skimage.io.imread(right_im_path)\n",
        "\n",
        "# Feel free to adjust as needed\n",
        "ratio = 0.7\n",
        "sigma = 0.15\n",
        "max_iters = 600\n",
        "inlier_tol = 1.0\n",
        "\n",
        "panorama_im = createPanorama(left_im, right_im, ratio, sigma, max_iters, inlier_tol)\n",
        "\n",
        "plt.imshow(panorama_im)\n",
        "plt.axis('off')\n",
        "plt.show()"
      ],
      "metadata": {
        "id": "Ks6Hzok8MU5w"
      },
      "execution_count": null,
      "outputs": []
    }
  ]
}